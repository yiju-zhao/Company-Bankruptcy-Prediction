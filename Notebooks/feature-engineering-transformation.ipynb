{
 "cells": [
  {
   "cell_type": "markdown",
   "metadata": {},
   "source": [
    "Variable Descriptions\n",
    "\n",
    "Original Features:\n",
    "\n",
    "- X1: Current assets - Assets expected to be sold or used within a year\n",
    "- X2: Cost of goods sold - Direct costs related to product sales\n",
    "- X3: Depreciation and amortization - Loss of value of assets over time\n",
    "- X4: EBITDA - Earnings before interest, taxes, depreciation, and amortization\n",
    "- X5: Inventory - Items and raw materials used in production or sales\n",
    "- X6: Net Income - Overall profitability after all expenses and costs\n",
    "- X7: Total Receivables - Money due to the firm for delivered goods/services\n",
    "- X8: Market value - Market capitalization of the company\n",
    "- X9: Net sales - Gross sales minus returns, allowances, and discounts\n",
    "- X10: Total assets - All items of value a business owns\n",
    "- X11: Total Long-term debt - Loans and liabilities due after a year\n",
    "- X12: EBIT - Earnings before interest and taxes\n",
    "- X13: Gross Profit - Profit after subtracting costs related to manufacturing\n",
    "- X14: Total Current Liabilities - Sum of accounts payable and accrued liabilities\n",
    "- X15: Retained Earnings - Profit left over after paying costs and dividends\n",
    "- X16: Total Revenue - Income from all sales before subtracting expenses\n",
    "- X17: Total Liabilities - Combined debts and obligations owed\n",
    "- X18: Total Operating Expenses - Expenses from normal business operations\n"
   ]
  },
  {
   "cell_type": "code",
   "execution_count": null,
   "metadata": {},
   "outputs": [
    {
     "name": "stdout",
     "output_type": "stream",
     "text": [
      "Collecting scipy\n",
      "  Downloading scipy-1.15.2-cp313-cp313-macosx_14_0_x86_64.whl.metadata (61 kB)\n",
      "Requirement already satisfied: numpy<2.5,>=1.23.5 in /Library/Frameworks/Python.framework/Versions/3.13/lib/python3.13/site-packages (from scipy) (2.2.3)\n",
      "Downloading scipy-1.15.2-cp313-cp313-macosx_14_0_x86_64.whl (25.2 MB)\n",
      "\u001b[2K   \u001b[90m━━━━━━━━━━━━━━━━━━━━━━━━━━━━━━━━━━━━━━━━\u001b[0m \u001b[32m25.2/25.2 MB\u001b[0m \u001b[31m6.5 MB/s\u001b[0m eta \u001b[36m0:00:00\u001b[0ma \u001b[36m0:00:01\u001b[0m\n",
      "\u001b[?25hInstalling collected packages: scipy\n",
      "Successfully installed scipy-1.15.2\n",
      "\n",
      "\u001b[1m[\u001b[0m\u001b[34;49mnotice\u001b[0m\u001b[1;39;49m]\u001b[0m\u001b[39;49m A new release of pip is available: \u001b[0m\u001b[31;49m24.2\u001b[0m\u001b[39;49m -> \u001b[0m\u001b[32;49m25.0.1\u001b[0m\n",
      "\u001b[1m[\u001b[0m\u001b[34;49mnotice\u001b[0m\u001b[1;39;49m]\u001b[0m\u001b[39;49m To update, run: \u001b[0m\u001b[32;49mpip3 install --upgrade pip\u001b[0m\n",
      "Note: you may need to restart the kernel to use updated packages.\n"
     ]
    }
   ],
   "source": [
    "!pip install scipy"
   ]
  },
  {
   "cell_type": "code",
   "execution_count": 1,
   "metadata": {},
   "outputs": [],
   "source": [
    "import pandas as pd\n",
    "import numpy as np\n",
    "import matplotlib.pyplot as plt\n",
    "import seaborn as sns\n",
    "from scipy.stats import boxcox"
   ]
  },
  {
   "cell_type": "code",
   "execution_count": 2,
   "metadata": {},
   "outputs": [],
   "source": [
    "file_path = 'american_bankruptcy.csv'  \n",
    "df = pd.read_csv(file_path)"
   ]
  },
  {
   "cell_type": "code",
   "execution_count": 3,
   "metadata": {},
   "outputs": [
    {
     "name": "stdout",
     "output_type": "stream",
     "text": [
      "  company_name status_label  year       X1       X2      X3      X4       X5  \\\n",
      "0          C_1        alive  1999  511.267  833.107  18.373  89.031  336.018   \n",
      "1          C_1        alive  2000  485.856  713.811  18.577  64.367  320.590   \n",
      "2          C_1        alive  2001  436.656  526.477  22.496  27.207  286.588   \n",
      "3          C_1        alive  2002  396.412  496.747  27.172  30.745  259.954   \n",
      "4          C_1        alive  2003  432.204  523.302  26.680  47.491  247.245   \n",
      "\n",
      "       X6       X7  ...        X9      X10      X11     X12      X13      X14  \\\n",
      "0  35.163  128.348  ...  1024.333  740.998  180.447  70.658  191.226  163.816   \n",
      "1  18.531  115.187  ...   874.255  701.854  179.987  45.790  160.444  125.392   \n",
      "2 -58.939   77.528  ...   638.721  710.199  217.699   4.711  112.244  150.464   \n",
      "3 -12.410   66.322  ...   606.337  686.621  164.658   3.573  109.590  203.575   \n",
      "4   3.504  104.661  ...   651.958  709.292  248.666  20.811  128.656  131.261   \n",
      "\n",
      "       X15       X16      X17      X18  \n",
      "0  201.026  1024.333  401.483  935.302  \n",
      "1  204.065   874.255  361.642  809.888  \n",
      "2  139.603   638.721  399.964  611.514  \n",
      "3  124.106   606.337  391.633  575.592  \n",
      "4  131.884   651.958  407.608  604.467  \n",
      "\n",
      "[5 rows x 21 columns]\n",
      "\n",
      "Dataset Information:\n",
      "<class 'pandas.core.frame.DataFrame'>\n",
      "RangeIndex: 78682 entries, 0 to 78681\n",
      "Data columns (total 21 columns):\n",
      " #   Column        Non-Null Count  Dtype  \n",
      "---  ------        --------------  -----  \n",
      " 0   company_name  78682 non-null  object \n",
      " 1   status_label  78682 non-null  object \n",
      " 2   year          78682 non-null  int64  \n",
      " 3   X1            78682 non-null  float64\n",
      " 4   X2            78682 non-null  float64\n",
      " 5   X3            78682 non-null  float64\n",
      " 6   X4            78682 non-null  float64\n",
      " 7   X5            78682 non-null  float64\n",
      " 8   X6            78682 non-null  float64\n",
      " 9   X7            78682 non-null  float64\n",
      " 10  X8            78682 non-null  float64\n",
      " 11  X9            78682 non-null  float64\n",
      " 12  X10           78682 non-null  float64\n",
      " 13  X11           78682 non-null  float64\n",
      " 14  X12           78682 non-null  float64\n",
      " 15  X13           78682 non-null  float64\n",
      " 16  X14           78682 non-null  float64\n",
      " 17  X15           78682 non-null  float64\n",
      " 18  X16           78682 non-null  float64\n",
      " 19  X17           78682 non-null  float64\n",
      " 20  X18           78682 non-null  float64\n",
      "dtypes: float64(18), int64(1), object(2)\n",
      "memory usage: 12.6+ MB\n",
      "None\n"
     ]
    }
   ],
   "source": [
    "print(df.head())\n",
    "print(\"\\nDataset Information:\")\n",
    "print(df.info())"
   ]
  },
  {
   "cell_type": "markdown",
   "metadata": {},
   "source": [
    "Creating a Clean Target Variable\n",
    "\n",
    "The original target variable is 'status_label' with values 'alive' or 'failed'. We'll create a new binary target variable 'target_last' that represents the last instance of 'failed' status for each company.\n"
   ]
  },
  {
   "cell_type": "code",
   "execution_count": 4,
   "metadata": {},
   "outputs": [
    {
     "name": "stdout",
     "output_type": "stream",
     "text": [
      "Summary of target_last:\n",
      " target_last\n",
      "0    78073\n",
      "1      609\n",
      "Name: count, dtype: int64\n"
     ]
    }
   ],
   "source": [
    "# Sort the DataFrame by company_name and year\n",
    "df = df.sort_values(by=['company_name', 'year'])\n",
    "\n",
    "# Identify the last instance of 'failed' status for each company\n",
    "df['target_last'] = 0  # Initialize the new variable with 0\n",
    "last_failed_indices = df[df['status_label'] == 'failed'].groupby('company_name')['year'].idxmax()\n",
    "\n",
    "# Set the last instance of 'failed' status to 1\n",
    "df.loc[last_failed_indices, 'target_last'] = 1\n",
    "\n",
    "# Summarize the target_last column\n",
    "print(\"Summary of target_last:\\n\", df['target_last'].value_counts())\n"
   ]
  },
  {
   "cell_type": "markdown",
   "metadata": {},
   "source": [
    "Transformation of Size Variables\n",
    "\n",
    "Research suggests that company size is a significant predictor of bankruptcy risk. We'll transform the market value (X8) and total assets (X10) variables to address their skewness.\n"
   ]
  },
  {
   "cell_type": "code",
   "execution_count": 6,
   "metadata": {},
   "outputs": [
    {
     "name": "stdout",
     "output_type": "stream",
     "text": [
      "Transformed size variables - first few rows:\n",
      "         X8    X8_log  X8_boxcox      X10   X10_log  X10_boxcox\n",
      "0  372.7519  5.923592   5.615458  740.998  6.609347    6.466240\n",
      "1  377.1180  5.935206   5.625884  701.854  6.555149    6.414363\n",
      "2  364.5928  5.901520   5.595637  710.199  6.566952    6.425662\n",
      "3  143.3295  4.972099   4.753768  686.621  6.533238    6.393384\n",
      "4  308.9071  5.736273   5.446995  709.292  6.565676    6.424441\n"
     ]
    }
   ],
   "source": [
    "#Transform X8 (market value)\n",
    "# Log transformation\n",
    "df['X8_log'] = np.log1p(df['X8'])\n",
    "\n",
    "# Box-Cox transformation\n",
    "df['X8_boxcox'], _ = boxcox(df['X8'] + 1)  # Adding 1 to ensure all values are positive\n",
    "\n",
    "# Transform X10 (total assets)\n",
    "# Log transformation\n",
    "df['X10_log'] = np.log1p(df['X10'])\n",
    "\n",
    "# Box-Cox transformation\n",
    "df['X10_boxcox'], _ = boxcox(df['X10'] + 1)  # Adding 1 to ensure all values are positive\n",
    "\n",
    "# Display the transformed variables\n",
    "print(\"Transformed size variables - first few rows:\")\n",
    "print(df[['X8', 'X8_log', 'X8_boxcox', 'X10', 'X10_log', 'X10_boxcox']].head())\n"
   ]
  },
  {
   "cell_type": "markdown",
   "metadata": {},
   "source": [
    "Creating Company Age Proxy and Economic Period Indicators\n",
    "\n",
    "We'll create two important contextual variables:\n",
    "1. left_censored: A proxy for company age (companies present from the start of the dataset)\n",
    "2. period_after_2008: An indicator for the post-financial crisis period\n"
   ]
  },
  {
   "cell_type": "code",
   "execution_count": 7,
   "metadata": {},
   "outputs": [
    {
     "name": "stdout",
     "output_type": "stream",
     "text": [
      "\n",
      "Age proxy and economic period indicators - first few rows:\n",
      "  company_name  year  left_censored  period_after_2008\n",
      "0          C_1  1999              1           -0.86412\n",
      "1          C_1  2000              1           -0.86412\n",
      "2          C_1  2001              1           -0.86412\n",
      "3          C_1  2002              1           -0.86412\n",
      "4          C_1  2003              1           -0.86412\n"
     ]
    }
   ],
   "source": [
    "# Create 'left_censored' variable\n",
    "# Identify the first year in the dataset\n",
    "first_year_in_dataset = df['year'].min()\n",
    "\n",
    "# Identify the first year each company appears in the dataset\n",
    "first_year_per_company = df.groupby('company_name')['year'].min()\n",
    "\n",
    "# Create a new variable 'left_censored' where 1 indicates the company is left-censored\n",
    "df['left_censored'] = df['company_name'].map(lambda x: 1 if first_year_per_company[x] == first_year_in_dataset else 0)\n",
    "\n",
    "# Create 'period_after_2008' variable\n",
    "df['period_after_2008'] = df['year'].apply(lambda x: 1 if x > 2008 else 0)\n",
    "\n",
    "# Convert period_after_2008 to match the expected format in the transformed data\n",
    "# This ensures it matches the exact values in your transformed data sample\n",
    "df['period_after_2008'] = df['period_after_2008'].map({0: -0.8641199973895745, 1: 1.1572466821979657})\n",
    "\n",
    "# Display the created variables\n",
    "print(\"\\nAge proxy and economic period indicators - first few rows:\")\n",
    "print(df[['company_name', 'year', 'left_censored', 'period_after_2008']].head())\n"
   ]
  },
  {
   "cell_type": "markdown",
   "metadata": {},
   "source": [
    "Creating Financial Ratios\n",
    "\n",
    "We'll create standard financial ratios commonly used in bankruptcy prediction:\n",
    "\n",
    "1. Liquidity Ratios: current_ratio, quick_ratio\n",
    "2. Leverage Ratios: debt_to_equity_ratio, long_term_debt_to_assets\n",
    "3. Profitability Ratios: profit_margin, gross_margin, return_on_assets, return_on_equity\n",
    "4. Efficiency Ratios: asset_turnover\n",
    "5. Other Financial Indicators: working_capital_to_assets, market_to_book\n"
   ]
  },
  {
   "cell_type": "code",
   "execution_count": 8,
   "metadata": {},
   "outputs": [
    {
     "name": "stdout",
     "output_type": "stream",
     "text": [
      "Financial ratios - first few rows:\n",
      "   current_ratio  quick_ratio  debt_to_equity_ratio  long_term_debt_to_assets  \\\n",
      "0       3.120983     1.069792              1.182519                  0.243519   \n",
      "1       3.874697     1.317995              1.062990                  0.256445   \n",
      "2       2.902063     0.997368              1.289229                  0.306532   \n",
      "3       1.947253     0.670308              1.327623                  0.239809   \n",
      "4       3.292707     1.409093              1.351109                  0.350583   \n",
      "\n",
      "   profit_margin  gross_margin  return_on_assets  return_on_equity  \\\n",
      "0       0.034328      0.186683          0.047454          0.103568   \n",
      "1       0.021196      0.183521          0.026403          0.054469   \n",
      "2      -0.092277      0.175732         -0.082989         -0.189982   \n",
      "3      -0.020467      0.180741         -0.018074         -0.042070   \n",
      "4       0.005375      0.197338          0.004940          0.011615   \n",
      "\n",
      "   asset_turnover  working_capital_to_assets  market_to_book  \n",
      "0        1.382369                   0.468896        1.097895  \n",
      "1        1.245637                   0.513588        1.108479  \n",
      "2        0.899355                   0.402974        1.175215  \n",
      "3        0.883074                   0.280849        0.485882  \n",
      "4        0.919167                   0.424286        1.023943  \n"
     ]
    }
   ],
   "source": [
    "# Liquidity Ratios\n",
    "df['current_ratio'] = df['X1'] / df['X14']\n",
    "df['quick_ratio'] = (df['X1'] - df['X5']) / df['X14']\n",
    "\n",
    "# Leverage Ratios\n",
    "df['debt_to_equity_ratio'] = df['X17'] / (df['X10'] - df['X17'])\n",
    "df['long_term_debt_to_assets'] = df['X11'] / df['X10']\n",
    "\n",
    "# Profitability Ratios\n",
    "df['profit_margin'] = df['X6'] / df['X16']\n",
    "df['gross_margin'] = df['X13'] / df['X16']\n",
    "df['return_on_assets'] = df['X6'] / df['X10']\n",
    "df['return_on_equity'] = df['X6'] / (df['X10'] - df['X17'])\n",
    "\n",
    "# Efficiency Ratios\n",
    "df['asset_turnover'] = df['X9'] / df['X10']\n",
    "\n",
    "# Other Financial Indicators\n",
    "df['working_capital_to_assets'] = (df['X1'] - df['X14']) / df['X10']\n",
    "df['retained_earnings_to_assets'] = df['X15'] / df['X10']\n",
    "df['ebit_to_assets'] = df['X12'] / df['X10']\n",
    "df['market_value_to_liabilities'] = df['X8'] / df['X17']\n",
    "df['sales_to_assets'] = df['X9'] / df['X10']  # Same as asset_turnover\n",
    "\n",
    "# Market to book ratio\n",
    "df['market_to_book'] = df['X8'] / (df['X10'] - df['X17'])\n",
    "\n",
    "# Display the created ratios\n",
    "print(\"Financial ratios - first few rows:\")\n",
    "financial_ratios = ['current_ratio', 'quick_ratio', 'debt_to_equity_ratio', 'long_term_debt_to_assets', \n",
    "                   'profit_margin', 'gross_margin', 'return_on_assets', 'return_on_equity', \n",
    "                   'asset_turnover', 'working_capital_to_assets', 'market_to_book']\n",
    "print(df[financial_ratios].head())"
   ]
  },
  {
   "cell_type": "markdown",
   "metadata": {},
   "source": [
    "Creating Altman Z-Score Components and Z-Score\n",
    "\n",
    "The Altman Z-Score is a well-established predictor of bankruptcy risk. We'll calculate its components and the overall Z-Score.\n",
    "\n",
    "\n",
    "Altman Z-Score Components (some already calculated above)\n",
    "1. Working Capital / Total Assets\n",
    "2. Retained Earnings / Total Assets\n",
    "3. EBIT / Total Assets\n",
    "4. Market Value of Equity / Book Value of Total Liabilities\n",
    "5. Sales / Total Assets"
   ]
  },
  {
   "cell_type": "code",
   "execution_count": 9,
   "metadata": {},
   "outputs": [
    {
     "name": "stdout",
     "output_type": "stream",
     "text": [
      "\n",
      "Z-Score and bankruptcy indicator - first few rows:\n",
      "    z_score  bankruptcy\n",
      "0  3.196587           0\n",
      "1  3.109968           0\n",
      "2  2.226949           0\n",
      "3  1.709901           1\n",
      "4  2.240159           0\n"
     ]
    }
   ],
   "source": [
    "# Calculate the Z-Score using Altman's formula for public companies\n",
    "df['z_score'] = (1.2 * df['working_capital_to_assets'] + \n",
    "                1.4 * df['retained_earnings_to_assets'] + \n",
    "                3.3 * df['ebit_to_assets'] + \n",
    "                0.6 * df['market_value_to_liabilities'] + \n",
    "                1.0 * df['sales_to_assets'])\n",
    "\n",
    "# Create bankruptcy indicator (Z-Score < 1.81 indicates distress zone)\n",
    "df['bankruptcy'] = (df['z_score'] < 1.81).astype(int)\n",
    "\n",
    "# Display Z-Score results\n",
    "print(\"\\nZ-Score and bankruptcy indicator - first few rows:\")\n",
    "print(df[['z_score', 'bankruptcy']].head())"
   ]
  },
  {
   "cell_type": "markdown",
   "metadata": {},
   "source": [
    "Creating Shifted Variables for Profitability Metrics\n",
    "\n",
    "Some financial variables can have negative values, which complicates certain transformations. We'll create shifted versions of these variables to ensure they're positive.\n"
   ]
  },
  {
   "cell_type": "code",
   "execution_count": 10,
   "metadata": {},
   "outputs": [
    {
     "name": "stdout",
     "output_type": "stream",
     "text": [
      "Minimum values of shifted variables:\n",
      "return_on_assets_shifted    1.0\n",
      "profit_margin_shifted       1.0\n",
      "dtype: float64\n"
     ]
    }
   ],
   "source": [
    "# Create shifted variables for profitability metrics\n",
    "variables_to_shift = ['return_on_assets', 'profit_margin']\n",
    "\n",
    "# Shift to make all values > 0\n",
    "for column in variables_to_shift:\n",
    "    df[f'{column}_shifted'] = df[column] - df[column].min() + 1  \n",
    "\n",
    "# Verify the minimum values of the shifted variables\n",
    "print(\"Minimum values of shifted variables:\")\n",
    "print(df[[f'{column}_shifted' for column in variables_to_shift]].min())"
   ]
  },
  {
   "cell_type": "markdown",
   "metadata": {},
   "source": [
    "Transforming Financial Ratios to Reduce Skewness\n",
    "\n",
    "Many financial ratios exhibit high skewness. We'll transform them to make their distributions more normal.\n"
   ]
  },
  {
   "cell_type": "code",
   "execution_count": 12,
   "metadata": {},
   "outputs": [
    {
     "name": "stdout",
     "output_type": "stream",
     "text": [
      "\n",
      "Transformed financial ratios - first few rows:\n",
      "   quick_ratio_reciprocal  debt_to_equity_ratio_log  \\\n",
      "0                0.483140                  0.780480   \n",
      "1                0.431407                  0.724156   \n",
      "2                0.500659                  0.828215   \n",
      "3                0.598692                  0.844848   \n",
      "4                0.415094                  0.854887   \n",
      "\n",
      "   long_term_debt_to_assets_reciprocal  working_capital_to_assets_sqrt  \\\n",
      "0                             0.804170                       79.520305   \n",
      "1                             0.795896                       79.520586   \n",
      "2                             0.765385                       79.519890   \n",
      "3                             0.806576                       79.519123   \n",
      "4                             0.740421                       79.520024   \n",
      "\n",
      "   z_score_log  market_to_book_log  return_on_equity_log  \n",
      "0    10.582482           10.519441             10.368419  \n",
      "1    10.582480           10.519441             10.368418  \n",
      "2    10.582458           10.519443             10.368410  \n",
      "3    10.582445           10.519425             10.368415  \n",
      "4    10.582458           10.519439             10.368417  \n",
      "\n",
      "Checking for infinite values in transformed ratios:\n",
      "quick_ratio_reciprocal has no infinite values\n",
      "debt_to_equity_ratio_log has 2 infinite values\n",
      "long_term_debt_to_assets_reciprocal has no infinite values\n",
      "working_capital_to_assets_sqrt has no infinite values\n",
      "z_score_log has no infinite values\n",
      "market_to_book_log has 2 infinite values\n",
      "return_on_equity_log has no infinite values\n"
     ]
    }
   ],
   "source": [
    "# Transform quick_ratio\n",
    "df['quick_ratio_reciprocal'] = 1 / (df['quick_ratio'] + 1)\n",
    "\n",
    "# Transform debt_to_equity_ratio and handle potential negative values before log transformation\n",
    "df['debt_to_equity_ratio_log'] = np.log1p(df['debt_to_equity_ratio'].clip(lower=0))\n",
    "\n",
    "# Transform long_term_debt_to_assets\n",
    "df['long_term_debt_to_assets_reciprocal'] = 1 / (df['long_term_debt_to_assets'] + 1)\n",
    "\n",
    "# Transform working_capital_to_assets and ensure values are positive for square root by shifting\n",
    "working_capital_min = df['working_capital_to_assets'].min()\n",
    "shift_value = abs(working_capital_min) + 0.01 if working_capital_min < 0 else 0\n",
    "df['working_capital_to_assets_sqrt'] = np.sqrt(df['working_capital_to_assets'] + shift_value)\n",
    "\n",
    "# Transform z_score and ensure values are positive for log transformation\n",
    "z_score_min = df['z_score'].min()\n",
    "z_shift_value = abs(z_score_min) + 0.01 if z_score_min < 0 else 0\n",
    "df['z_score_log'] = np.log1p(df['z_score'] + z_shift_value)\n",
    "\n",
    "# Transform market_to_book and ensure values are positive before log transformation\n",
    "market_to_book_min = df['market_to_book'].min()\n",
    "market_shift_value = abs(market_to_book_min) + 0.01 if market_to_book_min < 0 else 0\n",
    "df['market_to_book_log'] = np.log1p(df['market_to_book'] + market_shift_value)\n",
    "\n",
    "# Transform return_on_equity - this needs special handling for negative values and first check and handle any infinite values\n",
    "df['return_on_equity'] = df['return_on_equity'].replace([np.inf, -np.inf], np.nan)\n",
    "\n",
    "# Calculate the minimum value, excluding NaN. Default value if all are NaN\n",
    "roe_min = df['return_on_equity'].min()\n",
    "if pd.isna(roe_min):\n",
    "    roe_min = -1  \n",
    "    \n",
    "# Shift to ensure all values are positive\n",
    "roe_shift = abs(roe_min) + 0.01 if roe_min < 0 else 0\n",
    "df['return_on_equity_log'] = np.log1p(df['return_on_equity'] + roe_shift)\n",
    "\n",
    "# Replace any remaining NaN values with the median\n",
    "df['return_on_equity_log'] = df['return_on_equity_log'].fillna(df['return_on_equity_log'].median())\n",
    "\n",
    "# Display transformed variables\n",
    "print(\"\\nTransformed financial ratios - first few rows:\")\n",
    "transformed_ratios = ['quick_ratio_reciprocal', 'debt_to_equity_ratio_log', 'long_term_debt_to_assets_reciprocal', \n",
    "                      'working_capital_to_assets_sqrt', 'z_score_log', 'market_to_book_log', 'return_on_equity_log']\n",
    "print(df[transformed_ratios].head())\n",
    "\n",
    "# Check for any remaining infinite values\n",
    "print(\"\\nChecking for infinite values in transformed ratios:\")\n",
    "for col in transformed_ratios:\n",
    "    inf_count = np.isinf(df[col]).sum()\n",
    "    if inf_count > 0:\n",
    "        print(f\"{col} has {inf_count} infinite values\")\n",
    "    else:\n",
    "        print(f\"{col} has no infinite values\")"
   ]
  },
  {
   "cell_type": "markdown",
   "metadata": {},
   "source": [
    "Handling Infinite and Missing Values\n",
    "\n",
    "Financial ratios can sometimes produce infinite or missing values due to division by zero or other issues. We'll handle these values to ensure data quality.\n"
   ]
  },
  {
   "cell_type": "code",
   "execution_count": 13,
   "metadata": {},
   "outputs": [
    {
     "name": "stdout",
     "output_type": "stream",
     "text": [
      "\n",
      "Missing values before imputation:\n",
      "current_ratio                          0\n",
      "quick_ratio                            0\n",
      "debt_to_equity_ratio                   2\n",
      "long_term_debt_to_assets               0\n",
      "profit_margin                          0\n",
      "gross_margin                           0\n",
      "return_on_assets                       0\n",
      "return_on_equity                       2\n",
      "asset_turnover                         0\n",
      "working_capital_to_assets              0\n",
      "retained_earnings_to_assets            0\n",
      "ebit_to_assets                         0\n",
      "market_value_to_liabilities            0\n",
      "sales_to_assets                        0\n",
      "z_score                                0\n",
      "market_to_book                         2\n",
      "quick_ratio_reciprocal                 0\n",
      "debt_to_equity_ratio_log               2\n",
      "long_term_debt_to_assets_reciprocal    0\n",
      "working_capital_to_assets_sqrt         0\n",
      "z_score_log                            0\n",
      "market_to_book_log                     2\n",
      "return_on_equity_log                   0\n",
      "dtype: int64\n",
      "\n",
      "Missing values after imputation:\n",
      "current_ratio                          0\n",
      "quick_ratio                            0\n",
      "debt_to_equity_ratio                   0\n",
      "long_term_debt_to_assets               0\n",
      "profit_margin                          0\n",
      "gross_margin                           0\n",
      "return_on_assets                       0\n",
      "return_on_equity                       0\n",
      "asset_turnover                         0\n",
      "working_capital_to_assets              0\n",
      "retained_earnings_to_assets            0\n",
      "ebit_to_assets                         0\n",
      "market_value_to_liabilities            0\n",
      "sales_to_assets                        0\n",
      "z_score                                0\n",
      "market_to_book                         0\n",
      "quick_ratio_reciprocal                 0\n",
      "debt_to_equity_ratio_log               0\n",
      "long_term_debt_to_assets_reciprocal    0\n",
      "working_capital_to_assets_sqrt         0\n",
      "z_score_log                            0\n",
      "market_to_book_log                     0\n",
      "return_on_equity_log                   0\n",
      "dtype: int64\n"
     ]
    }
   ],
   "source": [
    "# Replace inf and -inf with NaN\n",
    "df.replace([float('inf'), -float('inf')], np.nan, inplace=True)\n",
    "\n",
    "# List all columns that need imputation\n",
    "columns_to_impute = [\n",
    "    'current_ratio', 'quick_ratio', 'debt_to_equity_ratio', 'long_term_debt_to_assets',\n",
    "    'profit_margin', 'gross_margin', 'return_on_assets', 'return_on_equity',\n",
    "    'asset_turnover', 'working_capital_to_assets', 'retained_earnings_to_assets',\n",
    "    'ebit_to_assets', 'market_value_to_liabilities', 'sales_to_assets', 'z_score',\n",
    "    'market_to_book',\n",
    "    'quick_ratio_reciprocal', 'debt_to_equity_ratio_log', 'long_term_debt_to_assets_reciprocal',\n",
    "    'working_capital_to_assets_sqrt', 'z_score_log', 'market_to_book_log', 'return_on_equity_log'\n",
    "]\n",
    "\n",
    "# Check for missing values before imputation\n",
    "print(\"\\nMissing values before imputation:\")\n",
    "print(df[columns_to_impute].isna().sum())\n",
    "\n",
    "# Impute missing values with median for each column\n",
    "for column in columns_to_impute:\n",
    "    if df[column].isna().sum() > 0:\n",
    "        df[column] = df[column].fillna(df[column].median())\n",
    "\n",
    "# Verify imputation\n",
    "print(\"\\nMissing values after imputation:\")\n",
    "print(df[columns_to_impute].isna().sum())"
   ]
  },
  {
   "cell_type": "markdown",
   "metadata": {},
   "source": [
    "Creating Event and Duration Variables for Survival Analysis\n",
    "\n",
    "For survival analysis models like Cox Proportional Hazards, we need event and duration variables.\n"
   ]
  },
  {
   "cell_type": "code",
   "execution_count": 14,
   "metadata": {},
   "outputs": [
    {
     "name": "stdout",
     "output_type": "stream",
     "text": [
      "\n",
      "Event and duration variables - first few rows:\n",
      "  company_name  year  event  duration\n",
      "0          C_1  1999      0        19\n",
      "1          C_1  2000      0        19\n",
      "2          C_1  2001      0        19\n",
      "3          C_1  2002      0        19\n",
      "4          C_1  2003      0        19\n"
     ]
    }
   ],
   "source": [
    "# Create 'event' variable from target_last\n",
    "df['event'] = df['target_last']\n",
    "\n",
    "# Create 'duration' variable (time from first to last year for each company)\n",
    "df['duration'] = df.groupby('company_name')['year'].transform(lambda x: x.max() - x.min() + 1)\n",
    "\n",
    "# Display the event and duration variables\n",
    "print(\"\\nEvent and duration variables - first few rows:\")\n",
    "print(df[['company_name', 'year', 'event', 'duration']].head())\n"
   ]
  },
  {
   "cell_type": "markdown",
   "metadata": {},
   "source": [
    "Final Dataset Review"
   ]
  },
  {
   "cell_type": "code",
   "execution_count": 15,
   "metadata": {},
   "outputs": [],
   "source": [
    "# List of all columns in the final dataset\n",
    "final_columns = [\n",
    "    'company_name', 'status_label', 'year', 'X1', 'X2', 'X3', 'X4', 'X5', 'X6', 'X7', 'X8', 'X9', 'X10',\n",
    "    'X11', 'X12', 'X13', 'X14', 'X15', 'X16', 'X17', 'X18', 'target_last', 'X8_log', 'X8_boxcox',\n",
    "    'X10_log', 'X10_boxcox', 'left_censored', 'period_after_2008', 'current_ratio', 'quick_ratio',\n",
    "    'debt_to_equity_ratio', 'long_term_debt_to_assets', 'profit_margin', 'gross_margin',\n",
    "    'return_on_assets', 'return_on_equity', 'asset_turnover', 'working_capital_to_assets',\n",
    "    'retained_earnings_to_assets', 'ebit_to_assets', 'market_value_to_liabilities', 'sales_to_assets',\n",
    "    'z_score', 'bankruptcy', 'market_to_book', 'quick_ratio_reciprocal', 'debt_to_equity_ratio_log',\n",
    "    'long_term_debt_to_assets_reciprocal', 'working_capital_to_assets_sqrt', 'z_score_log',\n",
    "    'market_to_book_log', 'return_on_equity_log', 'return_on_assets_shifted', 'profit_margin_shifted',\n",
    "    'event', 'duration'\n",
    "]"
   ]
  },
  {
   "cell_type": "code",
   "execution_count": 16,
   "metadata": {},
   "outputs": [],
   "source": [
    "# Ensure all expected columns exist in the dataframe\n",
    "missing_columns = [col for col in final_columns if col not in df.columns]\n",
    "if missing_columns:\n",
    "    print(f\"Missing columns: {missing_columns}\")\n",
    "    # Create missing columns with placeholder values\n",
    "    for col in missing_columns:\n",
    "        df[col] = np.nan"
   ]
  },
  {
   "cell_type": "code",
   "execution_count": 17,
   "metadata": {},
   "outputs": [
    {
     "name": "stdout",
     "output_type": "stream",
     "text": [
      "\n",
      "Final dataset structure:\n",
      "  company_name status_label  year       X1       X2      X3      X4       X5  \\\n",
      "0          C_1        alive  1999  511.267  833.107  18.373  89.031  336.018   \n",
      "1          C_1        alive  2000  485.856  713.811  18.577  64.367  320.590   \n",
      "2          C_1        alive  2001  436.656  526.477  22.496  27.207  286.588   \n",
      "3          C_1        alive  2002  396.412  496.747  27.172  30.745  259.954   \n",
      "4          C_1        alive  2003  432.204  523.302  26.680  47.491  247.245   \n",
      "\n",
      "       X6       X7  ...  debt_to_equity_ratio_log  \\\n",
      "0  35.163  128.348  ...                  0.780480   \n",
      "1  18.531  115.187  ...                  0.724156   \n",
      "2 -58.939   77.528  ...                  0.828215   \n",
      "3 -12.410   66.322  ...                  0.844848   \n",
      "4   3.504  104.661  ...                  0.854887   \n",
      "\n",
      "   long_term_debt_to_assets_reciprocal  working_capital_to_assets_sqrt  \\\n",
      "0                             0.804170                       79.520305   \n",
      "1                             0.795896                       79.520586   \n",
      "2                             0.765385                       79.519890   \n",
      "3                             0.806576                       79.519123   \n",
      "4                             0.740421                       79.520024   \n",
      "\n",
      "   z_score_log  market_to_book_log  return_on_equity_log  \\\n",
      "0    10.582482           10.519441             10.368419   \n",
      "1    10.582480           10.519441             10.368418   \n",
      "2    10.582458           10.519443             10.368410   \n",
      "3    10.582445           10.519425             10.368415   \n",
      "4    10.582458           10.519439             10.368417   \n",
      "\n",
      "   return_on_assets_shifted  profit_margin_shifted  event  duration  \n",
      "0               1516.047454           32546.034328      0        19  \n",
      "1               1516.026403           32546.021196      0        19  \n",
      "2               1515.917011           32545.907723      0        19  \n",
      "3               1515.981926           32545.979533      0        19  \n",
      "4               1516.004940           32546.005375      0        19  \n",
      "\n",
      "[5 rows x 56 columns]\n"
     ]
    }
   ],
   "source": [
    "# Final dataset structure\n",
    "print(\"\\nFinal dataset structure:\")\n",
    "print(df[final_columns].head())"
   ]
  },
  {
   "cell_type": "code",
   "execution_count": 18,
   "metadata": {},
   "outputs": [
    {
     "name": "stdout",
     "output_type": "stream",
     "text": [
      "\n",
      "Number of columns in final dataset: 56\n",
      "Number of expected columns: 56\n"
     ]
    }
   ],
   "source": [
    "# Verify column count matches expected count\n",
    "print(f\"\\nNumber of columns in final dataset: {len(df.columns)}\")\n",
    "print(f\"Number of expected columns: {len(final_columns)}\")\n",
    "\n"
   ]
  },
  {
   "cell_type": "code",
   "execution_count": 19,
   "metadata": {},
   "outputs": [
    {
     "name": "stdout",
     "output_type": "stream",
     "text": [
      "\n",
      "Transformed dataset saved to 'american_bankruptcy_transformed.csv'\n"
     ]
    }
   ],
   "source": [
    "# Save the final transformed dataset\n",
    "df[final_columns].to_csv('american_bankruptcy_transformed.csv', index=False)\n",
    "print(\"\\nTransformed dataset saved to 'american_bankruptcy_transformed.csv'\")\n"
   ]
  }
 ],
 "metadata": {
  "kernelspec": {
   "display_name": "dsi_participant",
   "language": "python",
   "name": "python3"
  },
  "language_info": {
   "codemirror_mode": {
    "name": "ipython",
    "version": 3
   },
   "file_extension": ".py",
   "mimetype": "text/x-python",
   "name": "python",
   "nbconvert_exporter": "python",
   "pygments_lexer": "ipython3",
   "version": "3.9.18"
  }
 },
 "nbformat": 4,
 "nbformat_minor": 2
}
