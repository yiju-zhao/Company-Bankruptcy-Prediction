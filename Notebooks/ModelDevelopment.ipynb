{
 "cells": [
  {
   "cell_type": "markdown",
   "metadata": {},
   "source": [
    "# Parameters"
   ]
  },
  {
   "cell_type": "code",
   "execution_count": 1,
   "metadata": {},
   "outputs": [
    {
     "name": "stdout",
     "output_type": "stream",
     "text": [
      "Data Path: c:\\Users\\hosse339\\Company-Bankruptcy-Prediction\\data\\raw\n",
      "Model Path: c:\\Users\\hosse339\\Company-Bankruptcy-Prediction\\model\n"
     ]
    }
   ],
   "source": [
    "import os\n",
    "\n",
    "parent_dir = os.path.dirname(os.getcwd()) \n",
    "\n",
    "# Define paths relative to the parent directory\n",
    "data_path = os.path.join(parent_dir, 'data', 'raw')\n",
    "model_path = os.path.join(parent_dir, 'model')\n",
    "\n",
    "print(\"Data Path:\", data_path)\n",
    "print(\"Model Path:\", model_path)\n",
    "\n",
    "\n",
    "data_file = os.path.join(data_path, 'american_bankruptcy.csv')"
   ]
  },
  {
   "cell_type": "code",
   "execution_count": 2,
   "metadata": {},
   "outputs": [],
   "source": [
    "from sklearn.metrics import accuracy_score, classification_report, confusion_matrix\n",
    "\n",
    "def uniform_evaluation(model, X_test, y_test):\n",
    "    # Predict on test set\n",
    "    y_pred = model.predict(X_test)\n",
    "\n",
    "    # Model evaluation\n",
    "    print(\"Accuracy:\", accuracy_score(y_test, y_pred))\n",
    "    print(\"\\nClassification Report:\\n\", classification_report(y_test, y_pred))\n",
    "    print(\"\\nConfusion Matrix:\\n\", confusion_matrix(y_test, y_pred))"
   ]
  },
  {
   "cell_type": "markdown",
   "metadata": {},
   "source": [
    "# Data Preparation"
   ]
  },
  {
   "cell_type": "code",
   "execution_count": 3,
   "metadata": {},
   "outputs": [
    {
     "name": "stdout",
     "output_type": "stream",
     "text": [
      "Index(['company_name', 'status_label', 'year', 'X1', 'X2', 'X3', 'X4', 'X5',\n",
      "       'X6', 'X7', 'X8', 'X9', 'X10', 'X11', 'X12', 'X13', 'X14', 'X15', 'X16',\n",
      "       'X17', 'X18', 'status_label_bin'],\n",
      "      dtype='object')\n",
      "<bound method NDFrame.head of       company_name status_label  year       X1       X2      X3       X4  \\\n",
      "0              C_1        alive  1999  511.267  833.107  18.373   89.031   \n",
      "1              C_1        alive  2000  485.856  713.811  18.577   64.367   \n",
      "2              C_1        alive  2001  436.656  526.477  22.496   27.207   \n",
      "3              C_1        alive  2002  396.412  496.747  27.172   30.745   \n",
      "4              C_1        alive  2003  432.204  523.302  26.680   47.491   \n",
      "...            ...          ...   ...      ...      ...     ...      ...   \n",
      "78677       C_8971        alive  2014  233.211   43.338  14.094   45.615   \n",
      "78678       C_8971        alive  2015  105.559   59.184  42.592  202.133   \n",
      "78679       C_8971        alive  2016   63.971   69.074  65.057   79.051   \n",
      "78680       C_8971        alive  2017  135.207   66.527  65.330   69.171   \n",
      "78681       C_8971        alive  2018   82.589   68.817  65.201   67.262   \n",
      "\n",
      "            X5       X6       X7  ...       X10      X11      X12      X13  \\\n",
      "0      336.018   35.163  128.348  ...   740.998  180.447   70.658  191.226   \n",
      "1      320.590   18.531  115.187  ...   701.854  179.987   45.790  160.444   \n",
      "2      286.588  -58.939   77.528  ...   710.199  217.699    4.711  112.244   \n",
      "3      259.954  -12.410   66.322  ...   686.621  164.658    3.573  109.590   \n",
      "4      247.245    3.504  104.661  ...   709.292  248.666   20.811  128.656   \n",
      "...        ...      ...      ...  ...       ...      ...      ...      ...   \n",
      "78677    3.376   25.261   22.846  ...  1099.101  184.666   31.521   60.885   \n",
      "78678    2.288  129.688   54.611  ...  1865.926  770.103  159.541  231.969   \n",
      "78679    2.581   -1.442   42.467  ...  1746.235  683.985   13.994  100.784   \n",
      "78680    2.013  -20.401   27.217  ...  1736.110  694.035    3.841   95.357   \n",
      "78681    2.112  -50.946   45.839  ...  1625.370  632.122    2.061   91.696   \n",
      "\n",
      "           X14      X15       X16      X17      X18  status_label_bin  \n",
      "0      163.816  201.026  1024.333  401.483  935.302                 0  \n",
      "1      125.392  204.065   874.255  361.642  809.888                 0  \n",
      "2      150.464  139.603   638.721  399.964  611.514                 0  \n",
      "3      203.575  124.106   606.337  391.633  575.592                 0  \n",
      "4      131.261  131.884   651.958  407.608  604.467                 0  \n",
      "...        ...      ...       ...      ...      ...               ...  \n",
      "78677   28.197   28.095   104.223  225.887   58.608                 0  \n",
      "78678   88.128  157.783   291.153  880.327   89.020                 0  \n",
      "78679   85.765  156.341   169.858  770.233   90.807                 0  \n",
      "78680   82.010  135.941   161.884  776.697   92.713                 0  \n",
      "78681   79.365   84.995   160.513  712.687   93.251                 0  \n",
      "\n",
      "[78682 rows x 22 columns]>\n"
     ]
    }
   ],
   "source": [
    "import pandas as pd\n",
    "from sklearn.preprocessing import LabelEncoder\n",
    "\n",
    "df = pd.read_csv(data_file)\n",
    "label_encoder = LabelEncoder()\n",
    "df['status_label_bin'] = label_encoder.fit_transform(df['status_label'])\n",
    "\n",
    "print(df.columns)\n",
    "print(df.head)\n"
   ]
  },
  {
<<<<<<< HEAD
<<<<<<< HEAD
=======
>>>>>>> 8495ad5b954d880b8bedefc8be1a590e06d76da9
   "cell_type": "markdown",
   "metadata": {},
   "source": [
    "# Train Test Split"
   ]
  },
  {
<<<<<<< HEAD
=======
>>>>>>> main
=======
>>>>>>> 8495ad5b954d880b8bedefc8be1a590e06d76da9
   "cell_type": "code",
   "execution_count": 4,
   "metadata": {},
   "outputs": [],
   "source": [
    "from sklearn.model_selection import train_test_split\n",
    "# Select features and target\n",
    "features = ['return_on_equity', 'quick_ratio', 'long_term_debt_to_assets',\n",
    "            'debt_to_equity_ratio', 'sales_growth', 'market_value_to_liabilities', 'year']\n",
    "#X = df[features]\n",
    "# Define the feature list (X1 to X18)\n",
    "features = [f'X{i}' for i in range(1, 19)] \n",
    "X = df[features] \n",
    "y = df['status_label_bin']  # Target variable (1 for bankruptcy, 0 for no bankruptcy)\n",
    "\n",
    "# Split into training and testing sets\n",
    "X_train, X_test, y_train, y_test = train_test_split(X, y, test_size=0.2, random_state=42, stratify=y)"
   ]
  },
  {
   "cell_type": "markdown",
   "metadata": {},
   "source": [
    "# Random Forest"
   ]
  },
  {
   "cell_type": "code",
<<<<<<< HEAD
<<<<<<< HEAD
   "execution_count": null,
=======
   "execution_count": 5,
>>>>>>> main
=======
   "execution_count": null,
>>>>>>> 8495ad5b954d880b8bedefc8be1a590e06d76da9
   "metadata": {},
   "outputs": [
    {
     "name": "stdout",
     "output_type": "stream",
     "text": [
      "Accuracy: 0.9372180212238673\n",
      "\n",
      "Classification Report:\n",
      "               precision    recall  f1-score   support\n",
      "\n",
      "           0       0.94      1.00      0.97     14693\n",
      "           1       1.00      0.05      0.10      1044\n",
      "\n",
      "    accuracy                           0.94     15737\n",
      "   macro avg       0.97      0.53      0.53     15737\n",
      "weighted avg       0.94      0.94      0.91     15737\n",
      "\n",
      "\n",
      "Confusion Matrix:\n",
      " [[14693     0]\n",
      " [  988    56]]\n"
     ]
    },
    {
     "data": {
      "text/plain": [
       "['c:\\\\Users\\\\hosse339\\\\Company-Bankruptcy-Prediction\\\\model\\\\random_forest.pkl']"
      ]
     },
     "execution_count": 5,
     "metadata": {},
     "output_type": "execute_result"
    }
   ],
   "source": [
    "from sklearn.ensemble import RandomForestClassifier\n",
    "import joblib\n",
    "\n",
    "rf_model = RandomForestClassifier(n_estimators=100, random_state=42, class_weight='balanced')\n",
    "rf_model.fit(X_train, y_train)\n",
    "\n",
    "uniform_evaluation(rf_model, X_test, y_test)\n",
    "\n",
    "joblib.dump(rf_model, os.path.join(model_path, 'random_forest.pkl') )"
   ]
  },
  {
   "cell_type": "markdown",
   "metadata": {},
   "source": [
    "# XGBoost"
   ]
  },
  {
   "cell_type": "code",
<<<<<<< HEAD
<<<<<<< HEAD
   "execution_count": null,
=======
   "execution_count": 6,
>>>>>>> main
=======
   "execution_count": null,
>>>>>>> 8495ad5b954d880b8bedefc8be1a590e06d76da9
   "metadata": {},
   "outputs": [
    {
     "name": "stderr",
     "output_type": "stream",
     "text": [
      "c:\\Users\\hosse339\\AppData\\Local\\Programs\\Python\\Python310\\lib\\site-packages\\xgboost\\training.py:183: UserWarning: [10:48:58] WARNING: C:\\actions-runner\\_work\\xgboost\\xgboost\\src\\learner.cc:738: \n",
      "Parameters: { \"use_label_encoder\" } are not used.\n",
      "\n",
      "  bst.update(dtrain, iteration=i, fobj=obj)\n"
     ]
    },
    {
     "name": "stdout",
     "output_type": "stream",
     "text": [
      "Accuracy: 0.8463493677320963\n",
      "\n",
      "Classification Report:\n",
      "               precision    recall  f1-score   support\n",
      "\n",
      "           0       0.97      0.86      0.91     14693\n",
      "           1       0.24      0.59      0.34      1044\n",
      "\n",
      "    accuracy                           0.85     15737\n",
      "   macro avg       0.60      0.73      0.63     15737\n",
      "weighted avg       0.92      0.85      0.87     15737\n",
      "\n",
      "\n",
      "Confusion Matrix:\n",
      " [[12699  1994]\n",
      " [  424   620]]\n"
     ]
    },
    {
     "data": {
      "text/plain": [
       "['c:\\\\Users\\\\hosse339\\\\Company-Bankruptcy-Prediction\\\\model\\\\xgboost.pkl']"
      ]
     },
     "execution_count": 6,
     "metadata": {},
     "output_type": "execute_result"
    }
   ],
   "source": [
    "from xgboost import XGBClassifier\n",
    "\n",
    "# Calculate scale_pos_weight\n",
    "scale_pos_weight = sum(y_train == 0) / sum(y_train == 1)\n",
    "\n",
    "xgb_model = XGBClassifier(n_estimators=100, random_state=42, scale_pos_weight=scale_pos_weight, use_label_encoder=False, eval_metric='logloss')\n",
    "xgb_model.fit(X_train, y_train)\n",
    "\n",
    "uniform_evaluation(xgb_model, X_test, y_test)\n",
    "\n",
    "joblib.dump(xgb_model, os.path.join(model_path, 'xgboost.pkl') )\n"
   ]
  },
  {
   "cell_type": "markdown",
   "metadata": {},
   "source": [
    "# SVM"
   ]
  },
  {
   "cell_type": "code",
   "execution_count": null,
   "metadata": {},
   "outputs": [
    {
     "name": "stderr",
     "output_type": "stream",
     "text": [
      "c:\\Users\\hosse339\\AppData\\Local\\Programs\\Python\\Python310\\lib\\site-packages\\sklearn\\svm\\_classes.py:32: FutureWarning: The default value of `dual` will change from `True` to `'auto'` in 1.5. Set the value of `dual` explicitly to suppress the warning.\n",
      "  warnings.warn(\n"
     ]
    },
    {
     "name": "stdout",
     "output_type": "stream",
     "text": [
      "Accuracy: 0.8216305522018174\n",
      "\n",
      "Classification Report:\n",
      "               precision    recall  f1-score   support\n",
      "\n",
      "           0       0.94      0.87      0.90     14693\n",
      "           1       0.09      0.18      0.12      1044\n",
      "\n",
      "    accuracy                           0.82     15737\n",
      "   macro avg       0.51      0.52      0.51     15737\n",
      "weighted avg       0.88      0.82      0.85     15737\n",
      "\n",
      "\n",
      "Confusion Matrix:\n",
      " [[12747  1946]\n",
      " [  861   183]]\n"
     ]
    },
    {
     "name": "stderr",
     "output_type": "stream",
     "text": [
      "c:\\Users\\hosse339\\AppData\\Local\\Programs\\Python\\Python310\\lib\\site-packages\\sklearn\\svm\\_base.py:1250: ConvergenceWarning: Liblinear failed to converge, increase the number of iterations.\n",
      "  warnings.warn(\n"
     ]
    },
    {
     "data": {
      "text/plain": [
       "['c:\\\\Users\\\\hosse339\\\\Company-Bankruptcy-Prediction\\\\model\\\\svm.pkl']"
      ]
     },
     "execution_count": 7,
     "metadata": {},
     "output_type": "execute_result"
    }
   ],
   "source": [
    "# from sklearn.svm import LinearSVC\n",
    "\n",
    "# svm_model = LinearSVC(random_state=42, class_weight='balanced', max_iter=5000)\n",
    "# svm_model.fit(X_train, y_train)\n",
    "\n",
    "# uniform_evaluation(svm_model, X_test, y_test)\n",
    "\n",
    "\n",
    "# joblib.dump(svm_model, os.path.join(model_path, 'svm.pkl') )"
   ]
  },
  {
   "cell_type": "markdown",
   "metadata": {},
   "source": [
    "# NN Based Model"
   ]
  },
  {
   "cell_type": "code",
<<<<<<< HEAD
<<<<<<< HEAD
   "execution_count": null,
=======
   "execution_count": 13,
>>>>>>> main
=======
   "execution_count": null,
>>>>>>> 8495ad5b954d880b8bedefc8be1a590e06d76da9
   "metadata": {},
   "outputs": [
    {
     "name": "stdout",
     "output_type": "stream",
     "text": [
      "Accuracy: 0.7538285569041113\n",
      "\n",
      "Classification Report:\n",
      "               precision    recall  f1-score   support\n",
      "\n",
      "           0       0.97      0.76      0.85     14693\n",
      "           1       0.17      0.68      0.27      1044\n",
      "\n",
      "    accuracy                           0.75     15737\n",
      "   macro avg       0.57      0.72      0.56     15737\n",
      "weighted avg       0.92      0.75      0.81     15737\n",
      "\n",
      "\n",
      "Confusion Matrix:\n",
      " [[11156  3537]\n",
      " [  337   707]]\n"
     ]
    },
    {
     "data": {
      "text/plain": [
       "['c:\\\\Users\\\\hosse339\\\\Company-Bankruptcy-Prediction\\\\model\\\\mlp.pkl']"
      ]
     },
     "execution_count": 13,
     "metadata": {},
     "output_type": "execute_result"
    }
   ],
   "source": [
    "from sklearn.neural_network import MLPClassifier\n",
    "from imblearn.over_sampling import SMOTE\n",
    "\n",
    "nn_model = MLPClassifier(hidden_layer_sizes=(100, 50), \n",
    "                         max_iter=500, \n",
    "                         solver='adam', \n",
    "                         activation='relu',\n",
    "                         random_state=42)\n",
    "\n",
    "smote = SMOTE(random_state=42)\n",
    "X_resampled, y_resampled = smote.fit_resample(X_train, y_train)\n",
    "\n",
    "nn_model.fit(X_resampled, y_resampled)\n",
    "\n",
    "uniform_evaluation(nn_model, X_test, y_test)\n",
    "\n",
    "joblib.dump(nn_model, os.path.join(model_path, 'mlp.pkl'))"
   ]
  },
  {
   "cell_type": "markdown",
   "metadata": {},
   "source": [
    "# Voting Classifier for Model Ensemble (hard voting: majority rule)"
   ]
  },
  {
   "cell_type": "code",
   "execution_count": 14,
   "metadata": {},
   "outputs": [
    {
     "name": "stderr",
     "output_type": "stream",
     "text": [
      "c:\\Users\\hosse339\\AppData\\Local\\Programs\\Python\\Python310\\lib\\site-packages\\xgboost\\training.py:183: UserWarning: [11:29:34] WARNING: C:\\actions-runner\\_work\\xgboost\\xgboost\\src\\learner.cc:738: \n",
      "Parameters: { \"use_label_encoder\" } are not used.\n",
      "\n",
      "  bst.update(dtrain, iteration=i, fobj=obj)\n"
     ]
    },
    {
     "name": "stdout",
     "output_type": "stream",
     "text": [
      "Accuracy: 0.9383618224566309\n",
      "\n",
      "Classification Report:\n",
      "               precision    recall  f1-score   support\n",
      "\n",
      "           0       0.94      1.00      0.97     14693\n",
      "           1       0.93      0.08      0.14      1044\n",
      "\n",
      "    accuracy                           0.94     15737\n",
      "   macro avg       0.93      0.54      0.55     15737\n",
      "weighted avg       0.94      0.94      0.91     15737\n",
      "\n",
      "\n",
      "Confusion Matrix:\n",
      " [[14687     6]\n",
      " [  964    80]]\n"
     ]
    },
    {
     "data": {
      "text/plain": [
       "['c:\\\\Users\\\\hosse339\\\\Company-Bankruptcy-Prediction\\\\model\\\\voting_hard.pkl']"
      ]
     },
     "execution_count": 14,
     "metadata": {},
     "output_type": "execute_result"
    }
   ],
   "source": [
    "from sklearn.ensemble import VotingClassifier\n",
    "\n",
    "voting_hard = VotingClassifier(\n",
    "    estimators=[('rf', rf_model), \n",
    "                ('xgb', xgb_model), \n",
    "                # ('svm', svm_model), \n",
    "                ('nn', nn_model)],\n",
    "    voting='hard'  # Majority voting\n",
    ")\n",
    "\n",
    "voting_hard.fit(X_train, y_train)\n",
    "\n",
    "uniform_evaluation(voting_hard, X_test, y_test)\n",
    "\n",
    "joblib.dump(voting_hard, os.path.join(model_path, 'voting_hard.pkl'))"
   ]
  },
  {
   "cell_type": "markdown",
   "metadata": {},
   "source": [
    "# Soft Voting (Weighted Average of Probabilities)"
   ]
  },
  {
   "cell_type": "code",
   "execution_count": 15,
   "metadata": {},
   "outputs": [
    {
     "name": "stderr",
     "output_type": "stream",
     "text": [
      "c:\\Users\\hosse339\\AppData\\Local\\Programs\\Python\\Python310\\lib\\site-packages\\xgboost\\training.py:183: UserWarning: [11:59:39] WARNING: C:\\actions-runner\\_work\\xgboost\\xgboost\\src\\learner.cc:738: \n",
      "Parameters: { \"use_label_encoder\" } are not used.\n",
      "\n",
      "  bst.update(dtrain, iteration=i, fobj=obj)\n"
     ]
    },
    {
     "name": "stdout",
     "output_type": "stream",
     "text": [
      "Accuracy: 0.9393149901506005\n",
      "\n",
      "Classification Report:\n",
      "               precision    recall  f1-score   support\n",
      "\n",
      "           0       0.94      1.00      0.97     14693\n",
      "           1       0.88      0.10      0.18      1044\n",
      "\n",
      "    accuracy                           0.94     15737\n",
      "   macro avg       0.91      0.55      0.57     15737\n",
      "weighted avg       0.94      0.94      0.92     15737\n",
      "\n",
      "\n",
      "Confusion Matrix:\n",
      " [[14679    14]\n",
      " [  941   103]]\n"
     ]
    },
    {
     "data": {
      "text/plain": [
       "['c:\\\\Users\\\\hosse339\\\\Company-Bankruptcy-Prediction\\\\model\\\\voting_soft.pkl']"
      ]
     },
     "execution_count": 15,
     "metadata": {},
     "output_type": "execute_result"
    }
   ],
   "source": [
    "\n",
    "voting_soft = VotingClassifier(\n",
    "    estimators=[('rf', rf_model), \n",
    "                ('xgb', xgb_model), \n",
    "                # ('svm', svm_model), \n",
    "                ('nn', nn_model)],\n",
    "    voting='soft'  # Soft voting (average probabilities)\n",
    ")\n",
    "\n",
    "voting_soft.fit(X_train, y_train)\n",
    "\n",
    "uniform_evaluation(voting_soft, X_test, y_test)\n",
    "\n",
    "joblib.dump(voting_soft, os.path.join(model_path, 'voting_soft.pkl'))"
   ]
  }
 ],
 "metadata": {
  "kernelspec": {
   "display_name": "Python 3",
   "language": "python",
   "name": "python3"
  },
  "language_info": {
   "codemirror_mode": {
    "name": "ipython",
    "version": 3
   },
   "file_extension": ".py",
   "mimetype": "text/x-python",
   "name": "python",
   "nbconvert_exporter": "python",
   "pygments_lexer": "ipython3",
   "version": "3.10.11"
  }
 },
 "nbformat": 4,
 "nbformat_minor": 2
}
