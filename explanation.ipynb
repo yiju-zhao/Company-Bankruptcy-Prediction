{
 "cells": [
  {
   "cell_type": "markdown",
   "metadata": {},
   "source": [
    "## Data Import"
   ]
  },
  {
   "cell_type": "markdown",
   "metadata": {},
   "source": [
    "* Feature Importance: Analyze the contribution of each feature to the final model’s predictions using coefficients and importance scores.\n",
    "* ROC Curve: Plot the ROC curve to evaluate the model’s performance in distinguishing between bankrupt and non-bankrupt companies.\n",
    "* SHAP Analysis: Use SHAP (SHapley Additive exPlanations) to visualize and explain individual predictions, highlighting key factors influencing bankruptcy risk.\n",
    "* Business Insights and Implications: Translate model findings into actionable insights for stakeholders, including recommendations for risk mitigation and investment strategies."
   ]
  },
  {
   "cell_type": "markdown",
   "metadata": {},
   "source": [
    "Required Data\n",
    "* Trained Model: Your final trained model (likely a Logistic Regression or Cox Proportional Hazards model)\n",
    "* Test Dataset: A held-out portion of your data not used during training\n",
    "* Feature Matrix: The processed features used for prediction (X_test)\n",
    "* Target Variable: The actual bankruptcy outcomes (y_test)\n",
    "* Prediction Scores: Probability outputs from your model on the test data"
   ]
  },
  {
   "cell_type": "markdown",
   "metadata": {},
   "source": [
    "### Performance Metrics Visualization: ROC Curves"
   ]
  },
  {
   "cell_type": "code",
   "execution_count": null,
   "metadata": {},
   "outputs": [],
   "source": [
    "import matplotlib.pyplot as plt\n",
    "from sklearn.metrics import roc_curve, auc\n",
    "\n",
    "# Assuming you have:\n",
    "# model = your trained model\n",
    "# X_test = your test features\n",
    "# y_test = your test labels\n",
    "\n",
    "# Get prediction probabilities\n",
    "y_pred_proba = model.predict_proba(X_test)[:, 1]  # For binary classification\n",
    "\n",
    "# Calculate ROC curve points\n",
    "fpr, tpr, thresholds = roc_curve(y_test, y_pred_proba)\n",
    "roc_auc = auc(fpr, tpr)\n",
    "\n",
    "# Plot ROC curve\n",
    "plt.figure(figsize=(10, 8))\n",
    "plt.plot(fpr, tpr, color='darkorange', lw=2, label=f'ROC curve (area = {roc_auc:.2f})')\n",
    "plt.plot([0, 1], [0, 1], color='navy', lw=2, linestyle='--')\n",
    "plt.xlim([0.0, 1.0])\n",
    "plt.ylim([0.0, 1.05])\n",
    "plt.xlabel('False Positive Rate')\n",
    "plt.ylabel('True Positive Rate')\n",
    "plt.title('Receiver Operating Characteristic (ROC) Curve')\n",
    "plt.legend(loc=\"lower right\")\n",
    "plt.savefig('roc_curve.png', dpi=300, bbox_inches='tight')\n",
    "plt.show()"
   ]
  },
  {
   "cell_type": "markdown",
   "metadata": {},
   "source": [
    "### Model Interpretation\n",
    "\n"
   ]
  },
  {
   "cell_type": "markdown",
   "metadata": {},
   "source": [
    "1) SHAP Summary Plot"
   ]
  },
  {
   "cell_type": "markdown",
   "metadata": {},
   "source": [
    "2. Feature Importance Bar Charts"
   ]
  },
  {
   "cell_type": "markdown",
   "metadata": {},
   "source": [
    "3. Coefficient Plots for Logistic Regression"
   ]
  },
  {
   "cell_type": "code",
   "execution_count": null,
   "metadata": {},
   "outputs": [],
   "source": [
    "import shap\n",
    "import numpy as np\n",
    "import matplotlib.pyplot as plt\n",
    "import pandas as pd\n",
    "\n",
    "# Assuming you have:\n",
    "# 1. A trained pipeline called 'best_model' from your bankruptcy prediction project\n",
    "# 2. X_train and X_test datasets with your financial indicators\n",
    "# 3. Feature names stored in your dataset\n",
    "\n",
    "# --- Extract Steps from Your Best Pipeline ---\n",
    "preprocessor = best_model.named_steps['preprocessor']  # Adjust if your pipeline has different step names\n",
    "classifier = best_model.named_steps['classifier']  # This might be 'regressor' or another name in your pipeline\n",
    "\n",
    "# --- Transform the Data ---\n",
    "X_train_transformed = preprocessor.transform(X_train)\n",
    "X_test_transformed = preprocessor.transform(X_test)\n",
    "\n",
    "# If your transformed data is not a DataFrame but you have feature names\n",
    "# Create a list of feature names that match your transformed data\n",
    "# This might require extracting column names from your preprocessor if it includes OneHotEncoder or similar\n",
    "feature_names = []  # Fill this with your actual feature names after preprocessing\n",
    "\n",
    "# --- Create a Background Sample for SHAP ---\n",
    "background = shap.sample(X_train_transformed, 100, random_state=42)\n",
    "\n",
    "# --- Create the SHAP Explainer ---\n",
    "# For classification models, you might want to use the predict_proba method instead\n",
    "# to get probability estimates of bankruptcy\n",
    "explainer = shap.KernelExplainer(\n",
    "    lambda x: classifier.predict_proba(x)[:,1],  # For binary classification, focus on positive class\n",
    "    background\n",
    ")\n",
    "\n",
    "# --- Local Explanation (for a single company) ---\n",
    "# Select one observation from the test set\n",
    "observation = X_test_transformed[0:1, :]\n",
    "shap_values = explainer.shap_values(observation)\n",
    "\n",
    "# Initialize the JavaScript visualization\n",
    "shap.initjs()\n",
    "\n",
    "# Create and display a force plot for the selected company\n",
    "force_plot = shap.force_plot(\n",
    "    explainer.expected_value, \n",
    "    shap_values, \n",
    "    features=observation, \n",
    "    feature_names=feature_names, \n",
    "    matplotlib=True\n",
    ")\n",
    "plt.title(\"SHAP Force Plot: Factors Influencing Bankruptcy Prediction\")\n",
    "plt.tight_layout()\n",
    "plt.show()\n",
    "\n",
    "# --- Global Explanation (for understanding overall model behavior) ---\n",
    "# Compute SHAP values for a sample of the test data\n",
    "X_test_sample = shap.sample(X_test_transformed, 200, random_state=42)\n",
    "shap_values_test = explainer.shap_values(X_test_sample)\n",
    "\n",
    "# Create a summary plot to show overall feature importance\n",
    "plt.figure(figsize=(12, 8))\n",
    "shap.summary_plot(\n",
    "    shap_values_test, \n",
    "    features=X_test_sample, \n",
    "    feature_names=feature_names,\n",
    "    plot_type=\"bar\"  # This creates the feature importance bar chart you asked about\n",
    ")\n",
    "plt.title(\"Feature Importance Based on SHAP Values\")\n",
    "plt.tight_layout()\n",
    "plt.show()\n",
    "\n",
    "# Create a detailed summary plot showing distribution of SHAP values\n",
    "plt.figure(figsize=(12, 10))\n",
    "shap.summary_plot(\n",
    "    shap_values_test, \n",
    "    features=X_test_sample, \n",
    "    feature_names=feature_names\n",
    ")\n",
    "plt.title(\"SHAP Summary Plot: Impact of Features on Bankruptcy Prediction\")\n",
    "plt.tight_layout()\n",
    "plt.show()\n",
    "\n",
    "# --- Additional Visualization: SHAP Dependence Plots ---\n",
    "# For the top 3 most important features (based on your README: debt-to-equity ratio, current ratio, operating cash flow)\n",
    "# Assuming these features are in your dataset and you know their indices after transformation\n",
    "important_features = [\n",
    "    # Replace these indices with the actual indices of your important features\n",
    "    feature_names.index(\"debt_to_equity_ratio\"),\n",
    "    feature_names.index(\"current_ratio\"),\n",
    "    feature_names.index(\"operating_cash_flow\")\n",
    "]\n",
    "\n",
    "for idx in important_features:\n",
    "    plt.figure(figsize=(10, 6))\n",
    "    shap.dependence_plot(\n",
    "        idx, \n",
    "        shap_values_test, \n",
    "        X_test_sample,\n",
    "        feature_names=feature_names\n",
    "    )\n",
    "    plt.title(f\"SHAP Dependence Plot: {feature_names[idx]}\")\n",
    "    plt.tight_layout()\n",
    "    plt.show()\n"
   ]
  },
  {
   "cell_type": "markdown",
   "metadata": {},
   "source": [
    "### Key Findings Explanation"
   ]
  },
  {
   "cell_type": "code",
   "execution_count": null,
   "metadata": {},
   "outputs": [],
   "source": []
  },
  {
   "cell_type": "code",
   "execution_count": null,
   "metadata": {},
   "outputs": [],
   "source": []
  }
 ],
 "metadata": {
  "kernelspec": {
   "display_name": "dsi_participant",
   "language": "python",
   "name": "python3"
  },
  "language_info": {
   "codemirror_mode": {
    "name": "ipython",
    "version": 3
   },
   "file_extension": ".py",
   "mimetype": "text/x-python",
   "name": "python",
   "nbconvert_exporter": "python",
   "pygments_lexer": "ipython3",
   "version": "3.9.20"
  }
 },
 "nbformat": 4,
 "nbformat_minor": 2
}
